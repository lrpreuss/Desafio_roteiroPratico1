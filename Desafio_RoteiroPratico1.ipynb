{
  "nbformat": 4,
  "nbformat_minor": 0,
  "metadata": {
    "colab": {
      "provenance": [],
      "authorship_tag": "ABX9TyMcsI7yx2XvhZfTEjmER/jg",
      "include_colab_link": true
    },
    "kernelspec": {
      "name": "python3",
      "display_name": "Python 3"
    },
    "language_info": {
      "name": "python"
    }
  },
  "cells": [
    {
      "cell_type": "markdown",
      "metadata": {
        "id": "view-in-github",
        "colab_type": "text"
      },
      "source": [
        "<a href=\"https://colab.research.google.com/github/lrpreuss/Desafio_roteiroPratico1/blob/main/Desafio_RoteiroPratico1.ipynb\" target=\"_parent\"><img src=\"https://colab.research.google.com/assets/colab-badge.svg\" alt=\"Open In Colab\"/></a>"
      ]
    },
    {
      "cell_type": "markdown",
      "source": [
        "# Desafio"
      ],
      "metadata": {
        "id": "ldxqhxdzekC2"
      }
    },
    {
      "cell_type": "markdown",
      "source": [
        "## EXERCÍCIO 1\n",
        "\n",
        "Você possui algumas variáveis em Python que descrevem alguns dos seus atributos. Com base nessas variáveis, gere uma apresentação curta de si mesmo:"
      ],
      "metadata": {
        "id": "U0u1mw0UepVO"
      }
    },
    {
      "cell_type": "code",
      "execution_count": 1,
      "metadata": {
        "id": "QrKyJLzaeJNv",
        "colab": {
          "base_uri": "https://localhost:8080/"
        },
        "outputId": "5929ae84-087b-4de7-e6d6-9a0978f14e93"
      },
      "outputs": [
        {
          "output_type": "stream",
          "name": "stdout",
          "text": [
            "Olá! Meu nome é Laís, tenho 34 anos, moro em Diadema e mei maior sonho é ser a maior cientista louca do universo.\n"
          ]
        }
      ],
      "source": [
        "nome = \"Laís\"\n",
        "idade = 34\n",
        "cidade = \"Diadema\"\n",
        "desejo = \"ser a maior cientista louca do universo\"\n",
        "\n",
        "print(f\"Olá! Meu nome é {nome}, tenho {idade} anos, moro em {cidade} e meu maior sonho é {desejo}.\")"
      ]
    },
    {
      "cell_type": "markdown",
      "source": [
        "## EXERCÍCIO 2\n",
        "\n",
        "Dada uma lista de números em Python, Calcule a média dos valores dessa lista:\n"
      ],
      "metadata": {
        "id": "JodDqyxGfhC-"
      }
    },
    {
      "cell_type": "code",
      "execution_count": 2,
      "metadata": {
        "id": "9RlSBSHNfhC-",
        "colab": {
          "base_uri": "https://localhost:8080/"
        },
        "outputId": "926d34a5-dc6f-43d9-99e9-e9bbec668f3f"
      },
      "outputs": [
        {
          "output_type": "stream",
          "name": "stdout",
          "text": [
            "A média é: 30.0\n"
          ]
        }
      ],
      "source": [
        "numeros = [10, 20, 30, 40, 50]\n",
        "media = sum(numeros)/len(numeros)\n",
        "\n",
        "print(f\"A média é: {media}\")"
      ]
    },
    {
      "cell_type": "markdown",
      "source": [
        "## EXERCÍCIO 3\n",
        "\n",
        "Você possui duas listas de Python. Cada lista representa os gastos do mês de dois amigos, João e Pedro. Cada valor na lista representa o gasto em uma das semanas do mês. Seu objetivo é encontrar quem gastou mais dinheiro ao longo do mês, João ou Pedro. Para isso, crie um código em Python que responda a essa pergunta."
      ],
      "metadata": {
        "id": "7xqD9gRuf2xK"
      }
    },
    {
      "cell_type": "code",
      "source": [
        "gastos_Joao = [200, 30, 40, 50]\n",
        "gastos_Pedro = [50, 175, 70, 30]\n",
        "\n",
        "def media_gasto(lista):\n",
        "  return sum(lista)/len(lista)\n",
        "\n",
        "media_Joao = media_gasto(gastos_Joao)\n",
        "media_Pedro = media_gasto(gastos_Pedro)\n",
        "\n",
        "if media_Pedro > media_Joao:\n",
        "  print(f\"Pedro gastou mais que João, com R${media_Pedro} de gastos no mês\")\n",
        "elif media_Pedro < media_Joao:\n",
        "  print(f\"João gastou mais que Pedro, com R${media_Joao} de gastos no mês\")\n",
        "else:\n",
        "  print(f\"Ambos gastaram a mesma quantia de R${media_Joao}\")"
      ],
      "metadata": {
        "colab": {
          "base_uri": "https://localhost:8080/"
        },
        "id": "PcQAb8k3AOaZ",
        "outputId": "5314d0f1-dd6a-4e15-d32e-35b7920d266c"
      },
      "execution_count": 5,
      "outputs": [
        {
          "output_type": "stream",
          "name": "stdout",
          "text": [
            "Pedro gastou mais que João, com R$81.25 de gastos no mês\n"
          ]
        }
      ]
    }
  ]
}